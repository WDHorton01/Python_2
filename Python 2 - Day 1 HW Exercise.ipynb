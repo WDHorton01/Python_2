{
 "cells": [
  {
   "cell_type": "markdown",
   "metadata": {},
   "source": [
    "# OOP - Class "
   ]
  },
  {
   "cell_type": "markdown",
   "metadata": {},
   "source": [
    "## Exercise 1: \n",
    "Create a Player class with a name, a position, and a speed attributes. Set the initial value of speed to 1 and create any necessary methods.\n",
    "Then, \n",
    "1. Create two Player objects and print information about both players.\n",
    "2. Assign 8 to player 1's speed\n",
    "3. print information about both players."
   ]
  },
  {
   "cell_type": "code",
   "execution_count": 7,
   "metadata": {},
   "outputs": [
    {
     "name": "stdout",
     "output_type": "stream",
     "text": [
      "Players name: Wyverntalon\n",
      "Players position: DPS\n",
      "Player speed: 8\n",
      "Players name: Stonemace\n",
      "Players position: Tank\n",
      "Player speed: 1\n"
     ]
    }
   ],
   "source": [
    "class Player:\n",
    "    \n",
    "    def __init__(self, name, position):\n",
    "        self.name = name\n",
    "        self.position = position\n",
    "        self.speed = 1\n",
    "    \n",
    "player1 = Player(\"Wyverntalon\", \"DPS\")\n",
    "player2 = Player(\"Stonemace\", \"Tank\")\n",
    "player1.speed = 8\n",
    "print(f\"Players name: {player1.name}\\nPlayers position: {player1.position}\\nPlayer speed: {player1.speed}\")\n",
    "print(f\"Players name: {player2.name}\\nPlayers position: {player2.position}\\nPlayer speed: {player2.speed}\")"
   ]
  },
  {
   "cell_type": "markdown",
   "metadata": {},
   "source": [
    "## Exercise 2: \n",
    "Create a class called Rectangle with height and length attributes and has following methods: \n",
    "- perimeter() : returns a perimeter of a rectangle object\n",
    "- area() : returns an area of a rectangle object\n",
    "\n",
    "Then,\n",
    "1. create two instances of Rectangle class\n",
    "2. print each rectangle's perimeter and determine which rectangle has larger perimeter\n",
    "3. print each rectangle's area and determine which rectangle has larger area"
   ]
  },
  {
   "cell_type": "code",
   "execution_count": 27,
   "metadata": {},
   "outputs": [
    {
     "name": "stdout",
     "output_type": "stream",
     "text": [
      "Rectangle 1 perimeter is: 20 Rectangle 2 perimeter is: 18\n",
      "Rectangle 1s perimeter is larger being 20 units.\n",
      "Rectangle 1 area is: 24 Rectangle 2 area is: 14\n",
      "Rectangle 1s area is larger being 24 units.\n"
     ]
    }
   ],
   "source": [
    "class Rectangle:\n",
    "    \n",
    "    def __init__(self, length, height):\n",
    "        self.height = height\n",
    "        self.length = length\n",
    "        \n",
    "    def perimeter(self):\n",
    "        return (self.height*2) + (self.length*2)\n",
    "    \n",
    "    def area(self):\n",
    "        return self.height * self.length\n",
    "    \n",
    "rectangle1 = Rectangle(int(4), int(6))\n",
    "rectangle2 = Rectangle(int(2), int(7))\n",
    "\n",
    "print(f\"Rectangle 1 perimeter is: {rectangle1.perimeter()} Rectangle 2 perimeter is: {rectangle2.perimeter()}\")\n",
    "\n",
    "if rectangle1.perimeter() > rectangle2.perimeter():\n",
    "    print(f\"Rectangle 1s perimeter is larger being {rectangle1.perimeter()} units.\")\n",
    "elif rectangle1.perimeter() < rectangle2.perimeter():\n",
    "    print(f\"Rectangle 2s perimeter is larger being {rectangle2.perimeter()} units.\")\n",
    "else:\n",
    "    print(\"Both rectangles have the same perimeter\")\n",
    "\n",
    "print(f\"Rectangle 1 area is: {rectangle1.area()} Rectangle 2 area is: {rectangle2.area()}\")\n",
    "\n",
    "if rectangle1.area() > rectangle2.area():\n",
    "    print(f\"Rectangle 1s area is larger being {rectangle1.area()} units.\")\n",
    "elif rectangle1.area() < rectangle2.area():\n",
    "    print(f\"Rectangle 2s area is larger being {rectangle2.area()} units.\")\n",
    "else:\n",
    "    print(\"Both rectangles have the same area\")"
   ]
  },
  {
   "cell_type": "markdown",
   "metadata": {},
   "source": [
    "## Exercise 3: \n",
    "Create a class called Triangle with height and base attributes and has following methods:\n",
    "\n",
    "- perimeter() : returns a perimeter of a right triangle object\n",
    "- area() : returns an area of a right triangle object\n",
    "\n",
    "Then,\n",
    "\n",
    "- create two instances of Triangle class\n",
    "- print each triangle's perimeter and determine which triangle has larger perimeter\n",
    "- print each triangle's area and determine which triangle has larger area\n",
    "\n",
    "Use \n",
    "- perimeter of a right triangle = height + base + Square-Root((height \\** 2) + (base \\** 2)) \n",
    "- area of a right triangle = ( height * base ) / 2\n",
    "\n",
    "You'll need to <b>import math</b> library and use <b>math.sqrt()</b> function.\n",
    "\n"
   ]
  },
  {
   "cell_type": "code",
   "execution_count": 31,
   "metadata": {},
   "outputs": [
    {
     "name": "stdout",
     "output_type": "stream",
     "text": [
      "Triangle 1 perimeter is: 17.21110255092798 Triangle 2 perimeter is: 16.280109889280517\n",
      "Triangle 1s perimeter is larger being 17.21110255092798 units.\n",
      "Triangle 1 area is: 12.0 Triangle 2 area is: 7.0\n",
      "Triangle 1s area is larger being 12.0 units.\n"
     ]
    }
   ],
   "source": [
    "import math\n",
    "class Triangle:\n",
    "    \n",
    "    def __init__(self, base, height):\n",
    "        self.height = height\n",
    "        self.base = base\n",
    "        \n",
    "    def perimeter(self):\n",
    "        return self.height + self.base + math.sqrt((self.height**2)+(self.base**2))\n",
    "    \n",
    "    def area(self):\n",
    "        return (self.height * self.base)/2\n",
    "    \n",
    "triangle1 = Triangle(float(4), float(6))\n",
    "triangle2 = Triangle(float(2), float(7))\n",
    "\n",
    "print(f\"Triangle 1 perimeter is: {triangle1.perimeter()} Triangle 2 perimeter is: {triangle2.perimeter()}\")\n",
    "\n",
    "if triangle1.perimeter() > triangle2.perimeter():\n",
    "    print(f\"Triangle 1s perimeter is larger being {triangle1.perimeter()} units.\")\n",
    "elif triangle1.perimeter() < triangle2.perimeter():\n",
    "    print(f\"Triangle 2s perimeter is larger being {triangle2.perimeter()} units.\")\n",
    "else:\n",
    "    print(\"Both Triangles have the same perimeter\")\n",
    "\n",
    "print(f\"Triangle 1 area is: {triangle1.area()} Triangle 2 area is: {triangle2.area()}\")\n",
    "\n",
    "if triangle1.area() > triangle2.area():\n",
    "    print(f\"Triangle 1s area is larger being {triangle1.area()} units.\")\n",
    "elif triangle1.area() < triangle2.area():\n",
    "    print(f\"Triangle 2s area is larger being {triangle2.area()} units.\")\n",
    "else:\n",
    "    print(\"Both triangles have the same area\")"
   ]
  },
  {
   "cell_type": "markdown",
   "metadata": {},
   "source": [
    "## Exercise 4: \n",
    "Write a program that maintains a list of movies, and the user can list all the movies, add a movie to the list, or delete a movie from the list. All input/output are done at the program level, not at a class level.\n",
    "\n",
    "\n",
    "For Python 1 Day 3 Challenge Exercise, you wrote a program that maintains a list of movies, and the user can list all the movies, add a movie to the list, or delete a movie from the list. Modify that program to use a <b>Movie object</b> to store name, year, and genre of a movie. Create any method you need to access these attributes but your method can not use <b>print</b> function. \n",
    "\n",
    "Additionally, create any function you need to make sure program neat. You may use <b>print</b> function in your function.\n"
   ]
  },
  {
   "cell_type": "code",
   "execution_count": 3,
   "metadata": {},
   "outputs": [
    {
     "name": "stdout",
     "output_type": "stream",
     "text": [
      "Command: list\n",
      "Command: add\n",
      "Name: delete\n",
      "Year: exit\n",
      "Genre: two\n",
      "Command: lsit\n",
      "Command: list\n",
      "Command: exit\n"
     ]
    }
   ],
   "source": [
    "class Movie:\n",
    "    def __init__(self, name, year, genre):\n",
    "        self.name = name\n",
    "        self.year = year\n",
    "        self.genre = genre\n",
    "    def get_info(self):\n",
    "        name = self.name\n",
    "        year = str(self.year)\n",
    "        genre = self.genre\n",
    "        return name + \"is a\" + genre +\" movie from\"+ year\n",
    "class Movies:\n",
    "    def __init__(self):\n",
    "        self.movie_list = []\n",
    "    def add_movie(self, movie):\n",
    "        self.movie_list.append(movie)\n",
    "        \n",
    "    def delete_movie(self, index):\n",
    "        if index < 1 or index > len(self.movie_list):\n",
    "            return None\n",
    "        else:\n",
    "            movie = self.movie_list.pop(index-1)\n",
    "            return movie\n",
    "    def list_movie(self):\n",
    "        msg =\"\"\n",
    "        index = 1\n",
    "        for movie in self.movie_list:\n",
    "            msg += str(index) + \". \"+movie.get_info()+\"\\n\"\n",
    "            index += 1\n",
    "        return msg\n",
    "\n",
    "m1 = Movie(\"Toy Story\", 2002, \"Kids\")\n",
    "m2 = Movie(\"Finding Nemo\", 2006, \"Kids\")\n",
    "m3 = Movie(\"007\", 1980, \"Action\")\n",
    "\n",
    "my_movies = Movies()\n",
    "my_movies.add_movie(m1)\n",
    "my_movies.add_movie(m2)\n",
    "my_movies.add_movie(m3)\n",
    "\n",
    "\n",
    "while True:\n",
    "    #display_menu()\n",
    "    command = input(\"Command: \")\n",
    "    \n",
    "    if command == \"list\":\n",
    "        my_movies.list_movie()\n",
    "    elif command == \"add\":\n",
    "        name = input(\"Name: \")\n",
    "        year = input(\"Year: \")\n",
    "        genre = input(\"Genre: \")\n",
    "    elif command == \"delete\":\n",
    "        choice = int(input(\"Enter the index number to delete:\"))\n",
    "        my_movies.delete_movie(choice)\n",
    "    elif command == \"exit\":\n",
    "        break"
   ]
  },
  {
   "cell_type": "markdown",
   "metadata": {},
   "source": [
    "## Exercise 5: \n",
    "Create a class called Employee with \n",
    "- firstname,\n",
    "- lastname, \n",
    "- joined_date\n",
    "- active\n",
    "\n",
    "attributes and methods to retrieve each attribute.\n",
    "\n",
    "Then, write a program to \n",
    "- add 10 or more employees\n",
    "- print all employees' information\n",
    "- print all active employees' information\n",
    "\n",
    "Create any methods you need but all print statements should be called from your program, not in your class method!\n",
    "\n",
    "You must use below data set (but can add more):\n",
    "\n",
    "    data = [{\"first\":\"elmo\", \"last\":\"monster\", \"year\": 2000},\n",
    "            {\"first\":\"count\", \"last\":\"count\", \"year\": 1819},\n",
    "            {\"first\":\"big\", \"last\":\"bird\", \"year\": 2011},\n",
    "            {\"first\":\"cookie\", \"last\":\"monster\", \"year\": 2002},\n",
    "            {\"first\":\"bert\", \"last\": \"person\", \"year\": 2013},\n",
    "            {\"first\":\"ernie\", \"last\": \"person\", \"year\": 2013},\n",
    "            {\"first\":\"oscar\", \"last\": \"grouch\", \"year\": 1999},\n",
    "            {\"first\":\"zoe\", \"last\": \"cutie\", \"year\": 2015},\n",
    "            {\"first\":\"abby\", \"last\": \"cadabby\", \"year\": 2016},\n",
    "            {\"first\":\"prairie\", \"last\": \"dawn\", \"year\": 2020}\n",
    "       ]"
   ]
  },
  {
   "cell_type": "code",
   "execution_count": 9,
   "metadata": {},
   "outputs": [],
   "source": [
    "import random as r\n",
    "class Employee:\n",
    "    \n",
    "    def __init__(self,first,last,joined,active):\n",
    "        self.first = first\n",
    "        self.last = last\n",
    "        self.joined = joined\n",
    "        self.active = active\n",
    "    def get_full_name(self):\n",
    "        return self.last+', '+self.first\n",
    "    def get_info(self):\n",
    "        return f\"{self.first}\\t{self.last}\\t{self.joined}\\t{active}\""
   ]
  },
  {
   "cell_type": "code",
   "execution_count": 10,
   "metadata": {},
   "outputs": [
    {
     "ename": "NameError",
     "evalue": "name 'active' is not defined",
     "output_type": "error",
     "traceback": [
      "\u001b[1;31m---------------------------------------------------------------------------\u001b[0m",
      "\u001b[1;31mNameError\u001b[0m                                 Traceback (most recent call last)",
      "\u001b[1;32m<ipython-input-10-883d260e7a4d>\u001b[0m in \u001b[0;36m<module>\u001b[1;34m\u001b[0m\n\u001b[0;32m     29\u001b[0m         \u001b[0mall_employees\u001b[0m\u001b[1;33m.\u001b[0m\u001b[0mappend\u001b[0m\u001b[1;33m(\u001b[0m\u001b[0memployee\u001b[0m\u001b[1;33m)\u001b[0m\u001b[1;33m\u001b[0m\u001b[1;33m\u001b[0m\u001b[0m\n\u001b[0;32m     30\u001b[0m \u001b[1;32mfor\u001b[0m \u001b[0mitem\u001b[0m \u001b[1;32min\u001b[0m \u001b[0mall_employees\u001b[0m\u001b[1;33m:\u001b[0m\u001b[1;33m\u001b[0m\u001b[1;33m\u001b[0m\u001b[0m\n\u001b[1;32m---> 31\u001b[1;33m     \u001b[0mprint\u001b[0m\u001b[1;33m(\u001b[0m\u001b[0mitem\u001b[0m\u001b[1;33m.\u001b[0m\u001b[0mget_info\u001b[0m\u001b[1;33m(\u001b[0m\u001b[1;33m)\u001b[0m\u001b[1;33m)\u001b[0m\u001b[1;33m\u001b[0m\u001b[1;33m\u001b[0m\u001b[0m\n\u001b[0m",
      "\u001b[1;32m<ipython-input-9-36a6eaf7bc72>\u001b[0m in \u001b[0;36mget_info\u001b[1;34m(self)\u001b[0m\n\u001b[0;32m     10\u001b[0m         \u001b[1;32mreturn\u001b[0m \u001b[0mself\u001b[0m\u001b[1;33m.\u001b[0m\u001b[0mlast\u001b[0m\u001b[1;33m+\u001b[0m\u001b[1;34m', '\u001b[0m\u001b[1;33m+\u001b[0m\u001b[0mself\u001b[0m\u001b[1;33m.\u001b[0m\u001b[0mfirst\u001b[0m\u001b[1;33m\u001b[0m\u001b[1;33m\u001b[0m\u001b[0m\n\u001b[0;32m     11\u001b[0m     \u001b[1;32mdef\u001b[0m \u001b[0mget_info\u001b[0m\u001b[1;33m(\u001b[0m\u001b[0mself\u001b[0m\u001b[1;33m)\u001b[0m\u001b[1;33m:\u001b[0m\u001b[1;33m\u001b[0m\u001b[1;33m\u001b[0m\u001b[0m\n\u001b[1;32m---> 12\u001b[1;33m         \u001b[1;32mreturn\u001b[0m \u001b[1;34mf\"{self.first}\\t{self.last}\\t{self.joined}\\t{active}\"\u001b[0m\u001b[1;33m\u001b[0m\u001b[1;33m\u001b[0m\u001b[0m\n\u001b[0m",
      "\u001b[1;31mNameError\u001b[0m: name 'active' is not defined"
     ]
    }
   ],
   "source": [
    "data = [{\"first\":\"elmo\", \"last\":\"monster\", \"year\": 2000},\n",
    "        {\"first\":\"count\", \"last\":\"count\", \"year\": 1819},\n",
    "        {\"first\":\"big\", \"last\":\"bird\", \"year\": 2011},\n",
    "        {\"first\":\"cookie\", \"last\":\"monster\", \"year\": 2002},\n",
    "        {\"first\":\"bert\", \"last\": \"person\", \"year\": 2013},\n",
    "        {\"first\":\"ernie\", \"last\": \"person\", \"year\": 2013},\n",
    "        {\"first\":\"oscar\", \"last\": \"grouch\", \"year\": 1999},\n",
    "        {\"first\":\"zoe\", \"last\": \"cutie\", \"year\": 2015},\n",
    "        {\"first\":\"abby\", \"last\": \"cadabby\", \"year\": 2016},\n",
    "        {\"first\":\"prairie\", \"last\": \"dawn\", \"year\": 2020}\n",
    "        ]\n",
    "all_employees = []\n",
    "\n",
    "for employee in data:\n",
    "    first = \"\"\n",
    "    last = \"\"\n",
    "    year = 0\n",
    "    \n",
    "    for key, value in employee.items():\n",
    "        if key == \"first\":\n",
    "            first = value\n",
    "        elif key == \"last\":\n",
    "            last = value\n",
    "        elif key == \"year\":\n",
    "            year = value\n",
    "        else:\n",
    "            print(\"Unknown value\")\n",
    "        employee = Employee(first, last, year, r.randint(0,1))\n",
    "        all_employees.append(employee)\n",
    "for item in all_employees:\n",
    "    print(item.get_info())"
   ]
  },
  {
   "cell_type": "code",
   "execution_count": null,
   "metadata": {},
   "outputs": [],
   "source": []
  }
 ],
 "metadata": {
  "kernelspec": {
   "display_name": "Python 3",
   "language": "python",
   "name": "python3"
  },
  "language_info": {
   "codemirror_mode": {
    "name": "ipython",
    "version": 3
   },
   "file_extension": ".py",
   "mimetype": "text/x-python",
   "name": "python",
   "nbconvert_exporter": "python",
   "pygments_lexer": "ipython3",
   "version": "3.8.8"
  }
 },
 "nbformat": 4,
 "nbformat_minor": 4
}
