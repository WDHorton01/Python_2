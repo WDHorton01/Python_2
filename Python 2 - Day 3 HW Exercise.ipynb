{
 "cells": [
  {
   "cell_type": "markdown",
   "metadata": {},
   "source": [
    "# OOP - Polymorphism, & Abstraction"
   ]
  },
  {
   "cell_type": "markdown",
   "metadata": {},
   "source": [
    "## Exercise 1: \n",
    "Create an abstract class called Vehicle with \n",
    "- color, make, and year private attributes \n",
    "\n",
    "and abstract method called \n",
    "- get_info() which returns all information\n",
    "- honk() which returns a string of honking sound\n",
    "\n",
    "Create Car, Boat, and Bicycle class which is a child class of the Vehicle class.  Then, create an instance of each child class and call get_info() method to print out its information in a user friendly format. Add other methods as you like."
   ]
  },
  {
   "cell_type": "code",
   "execution_count": 3,
   "metadata": {},
   "outputs": [],
   "source": [
    "from abc import ABC, abstractmethod\n",
    "class Vehicle(ABC):\n",
    "    def __init__(self, color, make, year):\n",
    "        self.__color = color\n",
    "        self.__make = make\n",
    "        self.__year = year\n",
    "        \n",
    "    @abstractmethod\n",
    "    def get_info(self):\n",
    "        pass\n",
    "    \n",
    "    @abstractmethod\n",
    "    def honk(self):\n",
    "        pass\n",
    "    \n",
    "class Car(Vehicle):\n",
    "    def __init__(self, color, make, year):\n",
    "        self.__color = color\n",
    "        self.__make = make\n",
    "        self.__year = year\n",
    "    \n",
    "    def get_info(self):\n",
    "        return f\"The color is {self.__color}, the make is {self.__make}, and the year is {self.__year}.\"\n",
    "    \n",
    "    def honk(self):\n",
    "        return \"Beep\"\n",
    "    \n",
    "class Boat(Vehicle):\n",
    "    def __init__(self, color, make, year):\n",
    "        self.__color = color\n",
    "        self.__make = make\n",
    "        self.__year = year\n",
    "    def get_info(self):\n",
    "        return f\"The color is {self.__color}, the make is {self.__make}, and the year is {self.__year}.\"\n",
    "    \n",
    "    def honk(self):\n",
    "        return \"Honk\"\n",
    "    \n",
    "class Bike(Vehicle):\n",
    "    def __init__(self, color, make, year):\n",
    "        self.__color = color\n",
    "        self.__make = make\n",
    "        self.__year = year\n",
    "    def get_info(self):\n",
    "        return f\"The color is {self.__color}, the make is {self.__make}, and the year is {self.__year}.\"\n",
    "    \n",
    "    def honk(self):\n",
    "        return \"Ding\"\n",
    "    "
   ]
  },
  {
   "cell_type": "code",
   "execution_count": 4,
   "metadata": {},
   "outputs": [
    {
     "name": "stdout",
     "output_type": "stream",
     "text": [
      "The color is red, the make is honda, and the year is 2013.\n",
      "Beep\n",
      "The color is wood, the make is norse, and the year is 1700.\n",
      "Honk\n",
      "The color is blue, the make is namebrand, and the year is 2001.\n",
      "Ding\n"
     ]
    }
   ],
   "source": [
    "c1 = Car(\"red\",\"honda\", \"2013\")\n",
    "\n",
    "b1 = Boat(\"wood\", \"norse\", \"1700\")\n",
    "\n",
    "b2 = Bike(\"blue\", \"namebrand\", \"2001\")\n",
    "my_vehicles[c1,b1,b2]\n",
    "\n",
    "for vehicle in my_vehicles:\n",
    "    "
   ]
  },
  {
   "cell_type": "markdown",
   "metadata": {},
   "source": [
    "## Exercise 2: \n",
    "Create an abstract class called Person with name and address attributes, and print_info() abstract method. \n",
    "1. Build an Employee class inherited from Person class that \n",
    "    - stores hired date and salary attributes \n",
    "    - print_info() method that will be used to print out all information about an employee\n",
    "    - a method to calculate employee's monthly pay where federal tax is 15%, MD tax is 4.5%, and a local tax is 3%.\n",
    "    \n",
    "2. Build a Customer class also inherited from Person class that\n",
    "    - stores balance attribute\n",
    "    - print_info() method that will be used to print out all information about a customer\n",
    "\n",
    "\n",
    "Build any method you need but apply encapsulation at all possible. Then, write a program to show your classes work with multiple employees and customers. \n",
    "\n",
    "CHALLENGE!!!\n",
    "Create an Address class and use it in Person class"
   ]
  },
  {
   "cell_type": "code",
   "execution_count": 8,
   "metadata": {},
   "outputs": [],
   "source": [
    "from abc import ABC, abstractmethod\n",
    "class Person(ABC):\n",
    "    @abstractmethod\n",
    "    def print_info(self):\n",
    "        pass\n",
    "    \n",
    "class Employee(Person):\n",
    "    def __init__ (self,name, address, hired_date, salary):\n",
    "        self.__name = name\n",
    "        self.__address = address\n",
    "        self.__hired_date = hired_date\n",
    "        self.__salary = salary\n",
    "    \n",
    "    def tax(self):\n",
    "        x = (self.__salary*22.5)/100\n",
    "        return self.__salary - x\n",
    "    \n",
    "    def print_info(self):\n",
    "        return f\"{self.__name} lives at {self.__address} and was hired on {self.__hired_date} and earns a salary of ${self.__salary} Monthly and recieves ${self.tax()} after tax\"\n",
    "    \n",
    "class Customer(Person):\n",
    "    def __init__(self,name, address, balance):\n",
    "        self.__name = name\n",
    "        self.__address = address\n",
    "        self.__balance = balance\n",
    "        \n",
    "    def print_info(self):\n",
    "        return f\"{self.__name} is a customer and lives at {self.__address} and has a total balance of ${self.__balance}.\"\n"
   ]
  },
  {
   "cell_type": "code",
   "execution_count": 9,
   "metadata": {},
   "outputs": [
    {
     "name": "stdout",
     "output_type": "stream",
     "text": [
      "Mark lives at Courtney Dr. and was hired on 10/21/2010 and earns a salary of $30000 Monthly and recieves $23250.0 after tax\n",
      "Veronica is a customer and lives at First st. and has a total balance of $50.\n"
     ]
    }
   ],
   "source": [
    "e1 = Employee(\"Mark\", \"Courtney Dr.\", \"10/21/2010\", 30000)\n",
    "print(e1.print_info())\n",
    "c1 = Customer(\"Veronica\", \"First st.\", 50)\n",
    "print(c1.print_info())"
   ]
  },
  {
   "cell_type": "code",
   "execution_count": 5,
   "metadata": {},
   "outputs": [],
   "source": [
    "from abc import ABC, abstractmethod\n",
    "class Person(ABC):\n",
    "    @abstractmethod\n",
    "    def __init__(self, name, address):\n",
    "        pass\n",
    "    @abstractmethod\n",
    "    def print_info(self):\n",
    "        pass\n",
    "    def get_address(self):\n",
    "        return self.__address\n",
    "    \n",
    "    def get_name(self):\n",
    "        return self.__name\n",
    "    \n",
    "class Employee(Person):\n",
    "    def __init__(self, name, address, hired_date, salary):\n",
    "        self.__name = name\n",
    "        self.__address = address\n",
    "        self.__hired_date = hired_date\n",
    "        self.__salary = salary\n",
    "        \n",
    "    def print_address(self):\n",
    "        return f\"Name: {self.__name} Address: {self.__address} Hired Date: {self.__hired_date} Salary: {self.__salary}\"\n",
    "    def get_name(self):\n",
    "        return self.__name\n",
    "    def compute_monthly(self):\n",
    "        monthly = self.__salary/12\n",
    "        fedtax = 0.15 *monthly\n",
    "        md_tax = 0.045 * monthly\n",
    "        local_tax = 0.03 * monthly\n",
    "        netpay = monthly - fedtax - md_tax - local_tax\n",
    "        return f\"Monthly pay before deductions: {monthly} Monthly pay after deductions: {netpay}\"\n",
    "\n",
    "class Customer(Person):\n",
    "    def __init__(self, name, address, balance):\n",
    "        self.__name = name\n",
    "        self.__address = address\n",
    "        self.__balance = balance\n",
    "        \n",
    "    def print_info(self):\n",
    "        return f\"Name: {self.__name} Address: {self.__address} balance: {self.__balance}\"\n",
    "\n",
    "    "
   ]
  },
  {
   "cell_type": "code",
   "execution_count": null,
   "metadata": {},
   "outputs": [],
   "source": []
  }
 ],
 "metadata": {
  "kernelspec": {
   "display_name": "Python 3",
   "language": "python",
   "name": "python3"
  },
  "language_info": {
   "codemirror_mode": {
    "name": "ipython",
    "version": 3
   },
   "file_extension": ".py",
   "mimetype": "text/x-python",
   "name": "python",
   "nbconvert_exporter": "python",
   "pygments_lexer": "ipython3",
   "version": "3.8.8"
  }
 },
 "nbformat": 4,
 "nbformat_minor": 4
}
