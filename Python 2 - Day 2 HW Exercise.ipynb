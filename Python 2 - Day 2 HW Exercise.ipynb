{
 "cells": [
  {
   "cell_type": "markdown",
   "metadata": {},
   "source": [
    "# OOP - Composition, Encapsulation, & Inheritance"
   ]
  },
  {
   "cell_type": "markdown",
   "metadata": {},
   "source": [
    "## Exercise 1: \n",
    "Create a Temperature Converter program using OOP by creating a Temperature class with two private attributes to store Fahrenheit and Celsius degrees. In the Temperature class, define methods that \n",
    "- sets the private attributes. When you set one unit of temperature, it should calculate and set the other unit of temperature. For example, when you set degrees in Fahrenheit, it should calculate and set in Celsius degrees. \n",
    "- gets the hidden attributes that round the number to 2 decimal places. \n",
    "\n",
    "The output should look something like following:\n",
    "\n",
    "    MENU\n",
    "    1. Fahrenheit to Celsius\n",
    "    2. Celsius to Fahrenheit\n",
    "    3. Quit\n",
    "    \n",
    "    Enter a menu option: 1\n",
    "    Enter degrees in Fahrenheit: 99\n",
    "    99.00 oF is 37.22 oC.\n",
    "    \n",
    "    Enter a menu option: 2\n",
    "    Enter degrees in Celsius: 37.22\n",
    "    37.22 oC is 99.00 oF.\n",
    "    \n",
    "    Enter a menu option: 3\n",
    "    Bye\n"
   ]
  },
  {
   "cell_type": "code",
   "execution_count": 3,
   "metadata": {},
   "outputs": [
    {
     "name": "stdout",
     "output_type": "stream",
     "text": [
      "MENU\n",
      "1. Fahrenheit to Celsius\n",
      "2. Celsius to Fahrenheit\n",
      "3. Quit\n",
      "Enter a menu option: 2\n",
      "Enter degrees in Celsius: 0\n",
      "0.0 oC is 32.0 oF\n",
      "Enter a menu option: 2\n",
      "Enter degrees in Celsius: 20\n",
      "20.0 oC is 68.0 oF\n",
      "Enter a menu option: 2\n",
      "Enter degrees in Celsius: 453\n",
      "453.0 oC is 847.4 oF\n",
      "Enter a menu option: 0\n",
      "Invalid input\n",
      "Enter a menu option: 3\n",
      "Bye\n"
     ]
    }
   ],
   "source": [
    "#my attempt\n",
    "class Temperature:\n",
    "    \n",
    "    def __init__(self,tempF, tempC):\n",
    "        self.__tempF = tempF\n",
    "        self.__tempC = tempC\n",
    "    \n",
    "    def FtoC(self):\n",
    "        return round((self.__tempF-32)*.5556, 2)\n",
    "    \n",
    "    def CtoF(self):\n",
    "        return round((self.__tempC*1.8)+32, 2)\n",
    "    \n",
    "    \n",
    "print(\"MENU\\n1. Fahrenheit to Celsius\\n2. Celsius to Fahrenheit\\n3. Quit\")\n",
    "ans = 0\n",
    "\n",
    "\n",
    "while ans != 3:\n",
    "    ans = int(input(\"Enter a menu option: \"))\n",
    "    if ans == 1:\n",
    "        temperatureF = float(input(\"Enter degrees in Fahrenheit: \"))\n",
    "        convert = Temperature(temperatureF, 0)\n",
    "        print(f\"{temperatureF} oF is {convert.FtoC()} oC\")\n",
    "        \n",
    "    elif ans == 2:\n",
    "        temperatureC = float(input(\"Enter degrees in Celsius: \"))\n",
    "        convert = Temperature(0, temperatureC)\n",
    "        print(f\"{temperatureC} oC is {convert.CtoF()} oF\")\n",
    "        \n",
    "    elif ans == 3:\n",
    "        print(\"Bye\")\n",
    "        \n",
    "    else:\n",
    "        print(\"Invalid input\")"
   ]
  },
  {
   "cell_type": "code",
   "execution_count": 4,
   "metadata": {},
   "outputs": [
    {
     "name": "stdout",
     "output_type": "stream",
     "text": [
      "Menue (please enter one of the options below)\n",
      "\n",
      "1. Fahr to Celsius\n",
      "2. Celsius to Fahr\n",
      "3. Quit\n",
      "-->2\n",
      "Please enter in degrees Celsius0\n",
      "0.0 degrees celsius is 32.0 degrees Farenheit\n",
      "Menue (please enter one of the options below)\n",
      "\n",
      "1. Fahr to Celsius\n",
      "2. Celsius to Fahr\n",
      "3. Quit\n",
      "-->3\n"
     ]
    }
   ],
   "source": [
    "class Temperature:\n",
    "    def __init__(self):\n",
    "        self.__celsius = 0.0\n",
    "        self.__fahr = 0.0\n",
    "        \n",
    "    def set_celsius(self, celsius):\n",
    "        self.__celsius = celsius\n",
    "        self.__fahr = (celsius *(9/5))+32\n",
    "        \n",
    "    def set_fahr(self, fahr):\n",
    "        self.__fahr = fahr\n",
    "        self.__celsius = (fahr -32)*(5/9)\n",
    "        \n",
    "    def get_celsius(self):\n",
    "        return round(self.__celsius, 2)\n",
    "    \n",
    "    def get_fahr(self):\n",
    "        return round(self.__fahr, 2)\n",
    "    \n",
    "def menu():\n",
    "    print(\"Menue (please enter one of the options below)\\n\")\n",
    "    print(\"1. Fahr to Celsius\")\n",
    "    print(\"2. Celsius to Fahr\")\n",
    "    print(\"3. Quit\")\n",
    "    \n",
    "again = True\n",
    "temp_calc = Temperature()\n",
    "while again:\n",
    "    menu()\n",
    "    try:\n",
    "        choice = input(\"-->\")\n",
    "        choice = int(choice)\n",
    "    except:\n",
    "        print(\"Please enter 1,2 or 3\")\n",
    "        \n",
    "    if choice == 1:\n",
    "        fahr = float(input(\"Please enter in degrees Fahrenheit: \"))\n",
    "        temp_calc.set_fahr(fahr)\n",
    "        print(f\"{temp_calc.get_fahr()} degrees Farenheit is {temp_calc.get_celsius()} degrees celsius\")\n",
    "    elif choice == 2:\n",
    "        celsius = float(input(\"Please enter in degrees Celsius\"))\n",
    "        temp_calc.set_celsius(celsius)\n",
    "        print(f\"{temp_calc.get_celsius()} degrees celsius is {temp_calc.get_fahr()} degrees Farenheit\")\n",
    "    elif choice == 3:\n",
    "        again = False\n",
    "    else:\n",
    "        continue"
   ]
  },
  {
   "cell_type": "markdown",
   "metadata": {},
   "source": [
    "## Exercise 2: \n",
    "Create a <b>Privileges</b> class that has privileges, a private attribute. It can store a list of strings such as \"can add\", \"can delete\", and \"can modify\".  Write a method called show_privileges(). \n",
    "\n",
    "Create a class called <b>Admin</b> that inherits from the <b>Person</b> class (see next cell). Make a Privileges instance as an attribute in the Admin class. Create a new instance of Admin and use your method to show its privileges.\n"
   ]
  },
  {
   "cell_type": "code",
   "execution_count": 7,
   "metadata": {},
   "outputs": [],
   "source": [
    "class Person :\n",
    "    \n",
    "    def __init__(self, name, age, gender) :\n",
    "        self.__name = name\n",
    "        self.__age = age\n",
    "        self.__gender = gender\n",
    "\n",
    "    def get_name(self) :\n",
    "        return self.__name\n",
    "    \n",
    "    def get_info(self) :\n",
    "        return f\"Name: {self.__name}\\nAge: {self.__age}\\nGender: {self.__gender}\"\n",
    "       "
   ]
  },
  {
   "cell_type": "code",
   "execution_count": 10,
   "metadata": {},
   "outputs": [
    {
     "name": "stdout",
     "output_type": "stream",
     "text": [
      "-can add\n",
      "-can modify\n",
      "\n"
     ]
    }
   ],
   "source": [
    "class Privileges:\n",
    "    \n",
    "    def __init__(self):\n",
    "        self.__privileges = []\n",
    "        \n",
    "    def add_privilege(self, priv):\n",
    "        self.__privileges.append(priv)\n",
    "    \n",
    "    def show_privileges(self):\n",
    "        msg = \"\"\n",
    "        for priv in self.__privileges:\n",
    "            msg += \"-\" + priv\n",
    "            msg += \"\\n\"\n",
    "        return msg\n",
    "    \n",
    "class Admin(Person):\n",
    "    \n",
    "    def __init__(self, name, age, gender):\n",
    "        super().__init__(name, age, gender)\n",
    "        self.privileges = Privileges()\n",
    "        \n",
    "    def add_privileges(self, priv):\n",
    "        self.privileges.add_privilege(priv)\n",
    "        \n",
    "admin = Admin(\"Mark\", 20, \"M\")\n",
    "admin.privileges.add_privilege(\"can add\")\n",
    "admin.add_privileges(\"can modify\")\n",
    "print(admin.privileges.show_privileges())"
   ]
  },
  {
   "cell_type": "markdown",
   "metadata": {},
   "source": [
    "## Exercise 3:\n",
    "1. Use the Product class from next cell\n",
    "2. Add get_description() method to Product class\n",
    "3. Create Book class inherited from the Product class. Add author attribute to the Book class and make modification to get_description() method\n",
    "4. Create Movie class inherited from the Product class. Add year attributes. Add/modify necessary methods"
   ]
  },
  {
   "cell_type": "code",
   "execution_count": 13,
   "metadata": {},
   "outputs": [
    {
     "name": "stdout",
     "output_type": "stream",
     "text": [
      "Name: product 1\n",
      "Price: 100\n",
      "Disicount Amount: $25.00\n",
      "Discounted Price: $75.00\n",
      "A product called product 1 with a final price of $75.00\n",
      "Name: The Old Man and the Sea\n",
      "Price: 35\n",
      "Disicount Amount: $3.50\n",
      "Discounted Price: $31.50\n",
      "A book by Hemingway called The Old Man and the Sea with a final price of $31.50\n",
      "------------\n",
      "A movie from 1977 called Star Wars with a final price of $22.50\n"
     ]
    }
   ],
   "source": [
    "# From Day 1 Class Demo\n",
    "class Product : \n",
    "    \"\"\"A simple attempt to model a product.\"\"\"\n",
    "    \n",
    "    def __init__(self, name, price, discount_rate) :\n",
    "        \"\"\"Initialize name, price, and discount_rate attributes\"\"\"\n",
    "        self.name = name\n",
    "        self.price = price\n",
    "        self.discount_rate = discount_rate\n",
    "        \n",
    "        \n",
    "    def get_discount_amount(self) :\n",
    "        \"\"\"Computes a discount calculation\"\"\"\n",
    "        return self.price * self.discount_rate / 100\n",
    "    \n",
    "        \n",
    "    def get_info(self) :\n",
    "        return(f\"Name: {self.name}\\n\" + \n",
    "                f\"Price: {self.price}\\n\" +\n",
    "                f\"Disicount Amount: ${self.get_discount_amount():,.2f}\\n\" +\n",
    "                f\"Discounted Price: ${self.get_sale_price():,.2f}\")\n",
    "    \n",
    "    def get_sale_price(self) :\n",
    "        \"\"\"Calls another method to find a sale price\"\"\"\n",
    "        return self.price - self.get_discount_amount()\n",
    "        \n",
    "    def get_description(self):\n",
    "        return f\"A product called {self.name} with a final price of ${self.get_sale_price():,.2f}\"\n",
    "    \n",
    "class Book(Product):\n",
    "    def __init__(self, name, price, discount_rate, author):\n",
    "        super().__init__(name, price, discount_rate)\n",
    "        self.author = author\n",
    "    def get_description(self):\n",
    "        msg = super().get_description()\n",
    "        msg = msg.replace(\"product\", f\"book by {self.author}\")\n",
    "        return msg\n",
    "        \n",
    "class Movie(Product):\n",
    "    def __init__(self, name, price, discount_rate, year):\n",
    "        super().__init__(name, price, discount_rate)\n",
    "        self.year = year\n",
    "    def get_description(self):\n",
    "        msg = super().get_description()\n",
    "        msg = msg.replace(\"product\", f\"movie from {self.year}\")\n",
    "        return msg\n",
    "p1 = Product(\"product 1\", 100, 25)\n",
    "print(p1.get_info())\n",
    "print(p1.get_description())\n",
    "b1 = Book(\"The Old Man and the Sea\", 35, 10, \"Hemingway\")\n",
    "print(b1.get_info())\n",
    "print(b1.get_description())\n",
    "print(\"-\"*12)\n",
    "m1 = Movie(\"Star Wars\", 30, 25, 1977)\n",
    "print(m1.get_description())"
   ]
  },
  {
   "cell_type": "markdown",
   "metadata": {},
   "source": [
    "## Exercise 4\n",
    "Create a <b>MyDate</b> class with month, day, year, hour, minute, and second <b>private attributes</b>.  Create an initialization method that takes a string in the format of \"mm-dd-yyyy hh:mm:ss\". Also create necessary public methods as needed.  \n",
    "\n",
    "Then, run below program to show your class works:\n",
    "\n",
    "    today = MyDate(\"10-10-2020 12:11:22\")\n",
    "    print(today.get_datetime())\n",
    "    today.set_datetime(\"11-31-1999 02:33:22\")\n",
    "    print(today.get_datetime())\n",
    "    print(today.get_datetime(month_first=False))"
   ]
  },
  {
   "cell_type": "code",
   "execution_count": 20,
   "metadata": {},
   "outputs": [
    {
     "name": "stdout",
     "output_type": "stream",
     "text": [
      "10-10-2020 10:10:2020\n",
      "11-31-1999 11:31:1999\n",
      "31-1999 11:31:1999\n"
     ]
    }
   ],
   "source": [
    "class MyDate:\n",
    "    def __init__(self, full_date):\n",
    "        date_time = full_date.split(\" \")\n",
    "        date = date_time[0]\n",
    "        time = date_time[1]\n",
    "        \n",
    "        temp_date = date.split(\"-\")\n",
    "        self.__month = temp_date[0]\n",
    "        self.__day = temp_date[1]\n",
    "        self.__year = temp_date[2]\n",
    "        \n",
    "        temp_time = time.split(\":\")\n",
    "        self.__hours = temp_date[0]\n",
    "        self.__min = temp_date[1]\n",
    "        self.__sec = temp_date[2]\n",
    "        \n",
    "    def get_datetime(self, month_first=True):\n",
    "        if month_first: #~~if month_first == true\n",
    "            return f\"{self.__month}-{self.__day}-{self.__year} {self.__hours}:{self.__min}:{self.__sec}\"\n",
    "        else:\n",
    "            return f\"{self.__day}-{self.__year} {self.__hours}:{self.__min}:{self.__sec}\"\n",
    "    def set_datetime (self, datetime):\n",
    "        self.__init__(datetime)\n",
    "# main program\n",
    "today = MyDate(\"10-10-2020 12:11:22\")\n",
    "print(today.get_datetime())\n",
    "today.set_datetime(\"11-31-1999 02:33:22\")\n",
    "print(today.get_datetime())\n",
    "print(today.get_datetime(month_first=False))"
   ]
  },
  {
   "cell_type": "markdown",
   "metadata": {},
   "source": [
    "## Challenge\n",
    "\n",
    "Modify <b>MyDate</b> class: \n",
    "\n",
    "    - to validate date & time (for month, days, hour, minute, and second). \n",
    "    - to add days\n",
    "    - to add hours"
   ]
  },
  {
   "cell_type": "code",
   "execution_count": null,
   "metadata": {},
   "outputs": [],
   "source": []
  }
 ],
 "metadata": {
  "kernelspec": {
   "display_name": "Python 3",
   "language": "python",
   "name": "python3"
  },
  "language_info": {
   "codemirror_mode": {
    "name": "ipython",
    "version": 3
   },
   "file_extension": ".py",
   "mimetype": "text/x-python",
   "name": "python",
   "nbconvert_exporter": "python",
   "pygments_lexer": "ipython3",
   "version": "3.8.8"
  }
 },
 "nbformat": 4,
 "nbformat_minor": 4
}
